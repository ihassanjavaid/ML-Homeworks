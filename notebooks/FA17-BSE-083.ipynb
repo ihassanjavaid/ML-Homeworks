{
 "cells": [
  {
   "cell_type": "markdown",
   "metadata": {
    "collapsed": true,
    "pycharm": {
     "name": "#%% md\n"
    }
   },
   "source": [
    "**Right Angled Triangle**"
   ]
  },
  {
   "cell_type": "code",
   "execution_count": 60,
   "outputs": [
    {
     "name": "stdout",
     "output_type": "stream",
     "text": [
      "\n",
      " * \n",
      " *  * \n",
      " *  *  * \n",
      " *  *  *  * \n",
      " *  *  *  *  * \n"
     ]
    }
   ],
   "source": [
    "numQ3 = int(input('How many stars in the last line: '))\n",
    "\n",
    "if numQ3 > 0:\n",
    "    for i in range (numQ3+1):\n",
    "        for j in range (i):\n",
    "            print(' * ', end='')\n",
    "        print()"
   ],
   "metadata": {
    "collapsed": false,
    "pycharm": {
     "name": "#%%\n"
    }
   }
  },
  {
   "cell_type": "markdown",
   "source": [
    "**Diamond**"
   ],
   "metadata": {
    "collapsed": false
   }
  },
  {
   "cell_type": "code",
   "execution_count": 61,
   "outputs": [
    {
     "name": "stdout",
     "output_type": "stream",
     "text": [
      "                  \n",
      "                 *  \n",
      "               *   *  \n",
      "             *   *   *  \n",
      "           *   *   *   *  \n",
      "         *   *   *   *   *  \n",
      "       *   *   *   *   *   *  \n",
      "     *   *   *   *   *   *   *  \n",
      "   *   *   *   *   *   *   *   *  \n",
      " *   *   *   *   *   *   *   *   *  \n",
      "   *   *   *   *   *   *   *   *  \n",
      "     *   *   *   *   *   *   *  \n",
      "       *   *   *   *   *   *  \n",
      "         *   *   *   *   *  \n",
      "           *   *   *   *  \n",
      "             *   *   *  \n",
      "               *   *  \n",
      "                 *  \n",
      "                  \n",
      "                    \n"
     ]
    }
   ],
   "source": [
    "numQ5 = int(input('How many stars (odd) in the middle line: '))\n",
    "\n",
    "if numQ5%2 != 0:\n",
    "    #first half\n",
    "    for i in range (numQ5+1):\n",
    "        for j in range(2*(numQ5-i)):\n",
    "            print(' ', end='')\n",
    "        for k in range (i):\n",
    "            print(' *  ', end='')\n",
    "        print()\n",
    "    #second half\n",
    "    for i in range (numQ5+1):\n",
    "        print('  ', end='')\n",
    "        for j in range(2*i):\n",
    "            print(' ', end='')\n",
    "        for k in range ((numQ5-1)-i):\n",
    "            print(' *  ', end='')\n",
    "        print()"
   ],
   "metadata": {
    "collapsed": false,
    "pycharm": {
     "name": "#%%\n"
    }
   }
  },
  {
   "cell_type": "markdown",
   "source": [
    "**Hollow Bisected Diamond**"
   ],
   "metadata": {
    "collapsed": false
   }
  },
  {
   "cell_type": "code",
   "execution_count": 11,
   "outputs": [
    {
     "name": "stdout",
     "output_type": "stream",
     "text": [
      "         *\n",
      "        * *\n",
      "       *   *\n",
      "      *     *\n",
      "     *       *\n",
      "    *         *\n",
      "   *           *\n",
      "  *             *\n",
      " *               *\n",
      "* * * * * * * * * * \n",
      " *               *\n",
      "  *             *\n",
      "   *           *\n",
      "    *         *\n",
      "     *       *\n",
      "      *     *\n",
      "       *   *\n",
      "        * *\n",
      "         *\n"
     ]
    }
   ],
   "source": [
    "numQ9 = int(input('Enter number of stars: '))\n",
    "\n",
    "# Part 1\n",
    "for i in range(1, numQ9):\n",
    "    for j in range(1, numQ9-i+1):\n",
    "        print(' ', end='')\n",
    "    for j in range(1, 2 * i):\n",
    "        if j == 1 or j == 2*i-1:\n",
    "            print('*', end='')\n",
    "        else:\n",
    "            print(' ', end='')\n",
    "    print()\n",
    "# Part 2\n",
    "for i in range(numQ9):\n",
    "    print('* ', end='')\n",
    "print()\n",
    "# Part 3\n",
    "for i in range( numQ9-1, 0, -1):\n",
    "    for j in range(1, numQ9-i+1):\n",
    "        print(' ', end='')\n",
    "    for j in range(1, 2*i):\n",
    "        if j == 1 or j == 2*i-1:\n",
    "            print('*', end='')\n",
    "        else:\n",
    "            print(' ', end='')\n",
    "    print()"
   ],
   "metadata": {
    "collapsed": false,
    "pycharm": {
     "name": "#%%\n"
    }
   }
  },
  {
   "cell_type": "markdown",
   "source": [
    "**Hollow Forward Arrow**"
   ],
   "metadata": {
    "collapsed": false
   }
  },
  {
   "cell_type": "code",
   "execution_count": 12,
   "outputs": [
    {
     "name": "stdout",
     "output_type": "stream",
     "text": [
      "**\n",
      "*  *\n",
      "*    *\n",
      "*      *\n",
      "*        *\n",
      "*          *\n",
      "*            *\n",
      "*              *\n",
      "*              *\n",
      "*            *\n",
      "*          *\n",
      "*        *\n",
      "*      *\n",
      "*    *\n",
      "*  *\n",
      "**\n"
     ]
    }
   ],
   "source": [
    "numQ12 = int(input('Enter number of stars: '))\n",
    "\n",
    "# Part 1\n",
    "for i in range(1, numQ12):\n",
    "    print('*', end='')\n",
    "    for j in range(1, 2 * i):\n",
    "        if j == 2*i-1:\n",
    "            print('*', end='')\n",
    "        else:\n",
    "            print(' ', end='')\n",
    "    print()\n",
    "# Part 2\n",
    "for i in range( numQ12-1, 0, -1):\n",
    "    print('*', end='')\n",
    "    for j in range(1, 2*i):\n",
    "        if j == 2*i-1:\n",
    "            print('*', end='')\n",
    "        else:\n",
    "            print(' ', end='')\n",
    "    print()"
   ],
   "metadata": {
    "collapsed": false,
    "pycharm": {
     "name": "#%%\n"
    }
   }
  },
  {
   "cell_type": "markdown",
   "source": [
    "**Star of David**"
   ],
   "metadata": {
    "collapsed": false
   }
  },
  {
   "cell_type": "code",
   "execution_count": 63,
   "outputs": [
    {
     "name": "stdout",
     "output_type": "stream",
     "text": [
      "                              \n",
      "                             *  \n",
      "                           *   *  \n",
      "                         *   *   *  \n",
      "                       *   *   *   *  \n",
      "                     *   *   *   *   *  \n",
      "                   *   *   *   *   *   *  \n",
      "                 *   *   *   *   *   *   *  \n",
      "   *   *   *   *   *   *   *   *   *   *   *   *   *   *  \n",
      "     *   *   *   *   *   *   *   *   *   *   *   *   *  \n",
      "       *   *   *   *   *   *   *   *   *   *   *   *  \n",
      "         *   *   *   *   *   *   *   *   *   *   *  \n",
      "           *   *   *   *   *   *   *   *   *   *  \n",
      "             *   *   *   *   *   *   *   *   *  \n",
      "               *   *   *   *   *   *   *   *  \n",
      "                 *   *   *   *   *   *   *  \n",
      "               *   *   *   *   *   *   *   *  \n",
      "             *   *   *   *   *   *   *   *   *  \n",
      "           *   *   *   *   *   *   *   *   *   *  \n",
      "         *   *   *   *   *   *   *   *   *   *   *  \n",
      "       *   *   *   *   *   *   *   *   *   *   *   *  \n",
      "     *   *   *   *   *   *   *   *   *   *   *   *   *  \n",
      "   *   *   *   *   *   *   *   *   *   *   *   *   *   *  \n",
      " *   *   *   *   *   *   *   *   *   *   *   *   *   *   *  \n",
      "                   *   *   *   *   *   *  \n",
      "                     *   *   *   *   *  \n",
      "                       *   *   *   *  \n",
      "                         *   *   *  \n",
      "                           *   *  \n",
      "                             *  \n",
      "                              \n",
      "                                \n"
     ]
    }
   ],
   "source": [
    "import math\n",
    "\n",
    "numQ18 = int(input('Enter number of maximum stars (>14): '))\n",
    "\n",
    "if numQ18 >= 15:\n",
    "    # part 1\n",
    "    for i in range (math.floor((numQ18+1)/2)):\n",
    "        for j in range(2*(numQ18-i)):\n",
    "            print(' ', end='')\n",
    "        for k in range (i):\n",
    "            print(' *  ', end='')\n",
    "        print()\n",
    "    # part 2\n",
    "    for i in range (math.floor((numQ18+1)/2)):\n",
    "        print('  ', end='')\n",
    "        for j in range(2*i):\n",
    "            print(' ', end='')\n",
    "        for k in range ((numQ18-1)-i):\n",
    "            print(' *  ', end='')\n",
    "        print()\n",
    "    # part 3\n",
    "    for i in range (math.floor((numQ18+1)/2), math.floor(numQ18+1)):\n",
    "        for j in range(2*(numQ18-i)):\n",
    "            print(' ', end='')\n",
    "        for k in range (i):\n",
    "            print(' *  ', end='')\n",
    "        print()\n",
    "    # part 4\n",
    "    for i in range (math.ceil((numQ18+1)/2), numQ18+1):\n",
    "        print('  ', end='')\n",
    "        for j in range(2*i):\n",
    "            print(' ', end='')\n",
    "        for k in range ((numQ18-1)-i):\n",
    "            print(' *  ', end='')\n",
    "        print()"
   ],
   "metadata": {
    "collapsed": false,
    "pycharm": {
     "name": "#%%\n"
    }
   }
  },
  {
   "cell_type": "markdown",
   "source": [
    "**Hollow Star of David (Top & Bottom)**"
   ],
   "metadata": {
    "collapsed": false
   }
  },
  {
   "cell_type": "code",
   "execution_count": 23,
   "outputs": [
    {
     "name": "stdout",
     "output_type": "stream",
     "text": [
      "                            *\n",
      "                          *  *\n",
      "                        *      *\n",
      "                      *          *\n",
      "                    *              *\n",
      "                  *                  *\n",
      "                *                      *\n",
      "   *   *   *   *   *   *   *   *   *   *   *   *   *   *  \n",
      "     *   *   *   *   *   *   *   *   *   *   *   *   *  \n",
      "       *   *   *   *   *   *   *   *   *   *   *   *  \n",
      "         *   *   *   *   *   *   *   *   *   *   *  \n",
      "           *   *   *   *   *   *   *   *   *   *  \n",
      "             *   *   *   *   *   *   *   *   *  \n",
      "               *   *   *   *   *   *   *   *  \n",
      "                 *   *   *   *   *   *   *  \n",
      "               *   *   *   *   *   *   *   *  \n",
      "             *   *   *   *   *   *   *   *   *  \n",
      "           *   *   *   *   *   *   *   *   *   *  \n",
      "         *   *   *   *   *   *   *   *   *   *   *  \n",
      "       *   *   *   *   *   *   *   *   *   *   *   *  \n",
      "     *   *   *   *   *   *   *   *   *   *   *   *   *  \n",
      "   *   *   *   *   *   *   *   *   *   *   *   *   *   *  \n",
      " *   *   *   *   *   *   *   *   *   *   *   *   *   *   *  \n",
      "                *                      *\n",
      "                  *                  *\n",
      "                    *              *\n",
      "                      *          *\n",
      "                        *      *\n",
      "                          *  *\n",
      "                            *\n"
     ]
    }
   ],
   "source": [
    "import math\n",
    "\n",
    "numQ25 = int(input('Enter number of maximum stars (>14): '))\n",
    "\n",
    "if numQ25 >= 15:\n",
    "    # part 1\n",
    "    for i in range(1, math.ceil(numQ25/2)):\n",
    "        for j in range(1,numQ25-i+1):\n",
    "            print('  ', end='')\n",
    "        for j in range(1, 2*i):\n",
    "            if j==1 or j==2*i-1:\n",
    "                print('*', end='')\n",
    "            else:\n",
    "                print('  ', end='')\n",
    "        print()\n",
    "    # part 2\n",
    "    for i in range (math.floor((numQ25+1)/2)):\n",
    "        print('  ', end='')\n",
    "        for j in range(2*i):\n",
    "            print(' ', end='')\n",
    "        for k in range ((numQ25-1)-i):\n",
    "            print(' *  ', end='')\n",
    "        print()\n",
    "    # part 3\n",
    "    for i in range (math.floor((numQ25+1)/2), math.floor(numQ25+1)):\n",
    "        for j in range(2*(numQ25-i)):\n",
    "            print(' ', end='')\n",
    "        for k in range (i):\n",
    "            print(' *  ', end='')\n",
    "        print()\n",
    "    # part 4\n",
    "    for i in range(math.ceil((numQ25-1)/2),0, -1):\n",
    "        for j in range(1,numQ25-i+1):\n",
    "            print('  ', end='')\n",
    "        for j in range(1, 2*i):\n",
    "            if j==1 or j==2*i-1:\n",
    "                print('*', end='')\n",
    "            else:\n",
    "                print('  ', end='')\n",
    "        print()\n",
    "\n",
    "\n"
   ],
   "metadata": {
    "collapsed": false,
    "pycharm": {
     "name": "#%%\n"
    }
   }
  }
 ],
 "metadata": {
  "kernelspec": {
   "name": "conda-root-py",
   "language": "python",
   "display_name": "Python [conda env:root]"
  },
  "language_info": {
   "codemirror_mode": {
    "name": "ipython",
    "version": 2
   },
   "file_extension": ".py",
   "mimetype": "text/x-python",
   "name": "python",
   "nbconvert_exporter": "python",
   "pygments_lexer": "ipython2",
   "version": "2.7.6"
  }
 },
 "nbformat": 4,
 "nbformat_minor": 0
}