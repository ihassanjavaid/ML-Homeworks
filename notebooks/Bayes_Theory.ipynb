{
 "cells": [
  {
   "cell_type": "code",
   "execution_count": 7,
   "metadata": {
    "collapsed": true
   },
   "outputs": [],
   "source": [
    "from sklearn.datasets import load_iris\n",
    "from sklearn.model_selection import train_test_split\n",
    "\n",
    "dataset = load_iris()\n",
    "\n",
    "x = dataset.data\n",
    "y = dataset.target\n",
    "\n",
    "x_train, x_test, y_train, y_test \\\n",
    "    = train_test_split(x, y, test_size=0.1)"
   ]
  },
  {
   "cell_type": "code",
   "execution_count": 8,
   "outputs": [],
   "source": [
    "from sklearn.naive_bayes import GaussianNB\n",
    "\n",
    "bayes = GaussianNB()\n",
    "bayes.fit(x_train, y_train)\n",
    "\n",
    "pred = bayes.predict(x_test)"
   ],
   "metadata": {
    "collapsed": false,
    "pycharm": {
     "name": "#%%\n"
    }
   }
  },
  {
   "cell_type": "code",
   "execution_count": 9,
   "outputs": [
    {
     "name": "stdout",
     "output_type": "stream",
     "text": [
      "Pred:1 \t Actual:1\t  true\n",
      "Pred:2 \t Actual:2\t  true\n",
      "Pred:0 \t Actual:0\t  true\n",
      "Pred:1 \t Actual:1\t  true\n",
      "Pred:0 \t Actual:0\t  true\n",
      "Pred:1 \t Actual:2\t  false\n",
      "Pred:0 \t Actual:0\t  true\n",
      "Pred:1 \t Actual:1\t  true\n",
      "Pred:2 \t Actual:2\t  true\n",
      "Pred:1 \t Actual:1\t  true\n",
      "Pred:0 \t Actual:0\t  true\n",
      "Pred:0 \t Actual:0\t  true\n",
      "Pred:1 \t Actual:1\t  true\n",
      "Pred:0 \t Actual:0\t  true\n",
      "Pred:2 \t Actual:2\t  true\n"
     ]
    }
   ],
   "source": [
    "for i in range (len(y_test)):\n",
    "    print(f'Pred:{pred[i]} \\t Actual:{y_test[i]}', end='')\n",
    "    if pred[i] == y_test[i]:\n",
    "        print('\\t  true')\n",
    "        continue\n",
    "    print('\\t  false')"
   ],
   "metadata": {
    "collapsed": false,
    "pycharm": {
     "name": "#%%\n"
    }
   }
  }
 ],
 "metadata": {
  "kernelspec": {
   "display_name": "Python 3",
   "language": "python",
   "name": "python3"
  },
  "language_info": {
   "codemirror_mode": {
    "name": "ipython",
    "version": 2
   },
   "file_extension": ".py",
   "mimetype": "text/x-python",
   "name": "python",
   "nbconvert_exporter": "python",
   "pygments_lexer": "ipython2",
   "version": "2.7.6"
  }
 },
 "nbformat": 4,
 "nbformat_minor": 0
}