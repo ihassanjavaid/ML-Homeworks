{
 "cells": [
  {
   "cell_type": "code",
   "execution_count": 2,
   "metadata": {
    "collapsed": true
   },
   "outputs": [],
   "source": [
    "import numpy as np\n",
    "import matplotlib.pyplot as plt\n",
    "from sklearn.linear_model import LinearRegression as LR\n",
    "from sklearn.linear_model import LogisticRegression as LogR\n",
    "import math\n",
    "import seaborn as sns\n",
    "from scipy.interpolate import make_interp_spline, BSpline\n",
    "from scipy.ndimage.filters import gaussian_filter1d"
   ]
  },
  {
   "cell_type": "code",
   "execution_count": 3,
   "outputs": [
    {
     "name": "stdout",
     "output_type": "stream",
     "text": [
      "xy: [5525 3700 4180 5850 4675 6090 6110 6860 4455 6370 3800 4070]\n",
      "x_SQ: [4225 2500 3025 4225 3025 4900 4225 4900 3025 4900 2500 3025]\n"
     ]
    }
   ],
   "source": [
    "x = np.array([65,50,55,65,55,70,65,70,55,70,50,55])\n",
    "y = np.array([85,74,76,90,85,87,94,98,81,91,76,74])\n",
    "\n",
    "xy = np.multiply(x,y)\n",
    "print(f'xy: {xy}')\n",
    "\n",
    "x_square = np.square(x)\n",
    "print(f'x_SQ: {x_square}')"
   ],
   "metadata": {
    "collapsed": false,
    "pycharm": {
     "name": "#%%\n"
    }
   }
  },
  {
   "cell_type": "code",
   "execution_count": 4,
   "outputs": [
    {
     "name": "stdout",
     "output_type": "stream",
     "text": [
      "m: [30.04334365]\n",
      "b: [[0.89721362]]\n",
      "y_hat: [[88.3622291 ]\n",
      " [74.90402477]\n",
      " [79.39009288]\n",
      " [88.3622291 ]\n",
      " [79.39009288]\n",
      " [92.84829721]\n",
      " [88.3622291 ]\n",
      " [92.84829721]\n",
      " [79.39009288]\n",
      " [92.84829721]\n",
      " [74.90402477]\n",
      " [79.39009288]]\n"
     ]
    }
   ],
   "source": [
    "lr = LR()\n",
    "lr.fit(x.reshape(-1, 1), y.reshape(-1, 1))\n",
    "\n",
    "print(f'm: {lr.intercept_}')\n",
    "print(f'b: {lr.coef_}')\n",
    "\n",
    "y_hat = lr.predict(x.reshape(-1, 1))\n",
    "print(f'y_hat: {y_hat}')"
   ],
   "metadata": {
    "collapsed": false,
    "pycharm": {
     "name": "#%%\n"
    }
   }
  },
  {
   "cell_type": "markdown",
   "source": [
    "### Linear Regression"
   ],
   "metadata": {
    "collapsed": false,
    "pycharm": {
     "name": "#%% md\n"
    }
   }
  },
  {
   "cell_type": "code",
   "execution_count": 5,
   "outputs": [
    {
     "data": {
      "text/plain": "[<matplotlib.lines.Line2D at 0x1ef8a6f7f10>]"
     },
     "execution_count": 5,
     "metadata": {},
     "output_type": "execute_result"
    },
    {
     "data": {
      "text/plain": "<Figure size 432x288 with 1 Axes>",
      "image/png": "[encoded data removed]"
     },
     "metadata": {
      "needs_background": "light"
     },
     "output_type": "display_data"
    }
   ],
   "source": [
    "plt.scatter(x,y)\n",
    "plt.plot(x, y_hat, color='red')"
   ],
   "metadata": {
    "collapsed": false,
    "pycharm": {
     "name": "#%%\n"
    }
   }
  },
  {
   "cell_type": "markdown",
   "source": [
    "### Logistic Regression"
   ],
   "metadata": {
    "collapsed": false,
    "pycharm": {
     "name": "#%% md\n"
    }
   }
  },
  {
   "cell_type": "code",
   "execution_count": 6,
   "outputs": [],
   "source": [
    "# logr = LogR()\n",
    "# logr.fit(x.reshape(-1, 1))\n",
    "#\n",
    "# m = logr.intercept_\n",
    "# b = logr.coef_\n",
    "#\n",
    "# print(f'm: {m}')\n",
    "# print(f'b: {b}')\n",
    "#\n",
    "# y_hat_logR = logr.predict(x.reshape(-1, 1))\n",
    "# print(f'y_hat: {y_hat_logR}')"
   ],
   "metadata": {
    "collapsed": false,
    "pycharm": {
     "name": "#%%\n"
    }
   }
  },
  {
   "cell_type": "code",
   "execution_count": 7,
   "outputs": [],
   "source": [
    "# plt.scatter(x,y)\n",
    "# plt.plot(x, y_hat_logR)\n",
    "#\n",
    "# y_smooth = gaussian_filter1d(y_hat_logR, sigma=2)\n",
    "# plt.plot(x, y_smooth)\n",
    "# plt.show()"
   ],
   "metadata": {
    "collapsed": false,
    "pycharm": {
     "name": "#%%\n"
    }
   }
  },
  {
   "cell_type": "code",
   "execution_count": 8,
   "outputs": [
    {
     "name": "stdout",
     "output_type": "stream",
     "text": [
      "1 :  0.9999999999999998\n",
      "2 :  1.0\n",
      "3 :  0.9999999997210531\n",
      "4 :  0.7290879223493065\n",
      "5 :  0.9987706013787226\n"
     ]
    }
   ],
   "source": [
    "\n",
    "x1 = np.array([36, 45, 22, 0.99, 6.7])\n",
    "x2 = np.array([0, 1, 1, 1, 1])\n",
    "\n",
    "# x1 = x1.reshape(-1, 1)\n",
    "# x2 = x2.reshape(-1, 1)\n",
    "#\n",
    "# logreg = LogR()\n",
    "# logreg.fit(x1, x2)\n",
    "# logreg.predict(x1)\n",
    "\n",
    "\n",
    "for x in range (len(x1)):\n",
    "    fx = 1/(1+np.exp(-x1[x]))\n",
    "    print(x+1, ': ', fx)"
   ],
   "metadata": {
    "collapsed": false,
    "pycharm": {
     "name": "#%%\n"
    }
   }
  },
  {
   "cell_type": "code",
   "execution_count": 10,
   "outputs": [
    {
     "name": "stdout",
     "output_type": "stream",
     "text": [
      "1 :  0.998498817743263\n",
      "2 :  0.9933071490757153\n",
      "3 :  0.995929862284104\n",
      "4 :  0.998498817743263\n",
      "5 :  0.995929862284104\n",
      "6 :  0.9990889488055994\n",
      "7 :  0.998498817743263\n",
      "8 :  0.9990889488055994\n",
      "9 :  0.995929862284104\n",
      "10 :  0.9990889488055994\n",
      "11 :  0.9933071490757153\n",
      "12 :  0.995929862284104\n"
     ]
    }
   ],
   "source": [
    "x = np.array([65,50,55,65,55,70,65,70,55,70,50,55])\n",
    "x_norm = x/10\n",
    "\n",
    "x_norm\n",
    "\n",
    "\n",
    "for x in range (len(x)):\n",
    "    fx = 1/(1+np.exp(-x_norm[x]))\n",
    "    print(x+1, ': ', fx)"
   ],
   "metadata": {
    "collapsed": false,
    "pycharm": {
     "name": "#%%\n"
    }
   }
  }
 ],
 "metadata": {
  "kernelspec": {
   "name": "conda-root-py",
   "language": "python",
   "display_name": "Python [conda env:root]"
  },
  "language_info": {
   "codemirror_mode": {
    "name": "ipython",
    "version": 2
   },
   "file_extension": ".py",
   "mimetype": "text/x-python",
   "name": "python",
   "nbconvert_exporter": "python",
   "pygments_lexer": "ipython2",
   "version": "2.7.6"
  }
 },
 "nbformat": 4,
 "nbformat_minor": 0
}